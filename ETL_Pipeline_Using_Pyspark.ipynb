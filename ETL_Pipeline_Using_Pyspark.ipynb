{
  "nbformat": 4,
  "nbformat_minor": 0,
  "metadata": {
    "colab": {
      "provenance": []
    },
    "kernelspec": {
      "name": "python3",
      "display_name": "Python 3"
    },
    "language_info": {
      "name": "python"
    }
  },
  "cells": [
    {
      "cell_type": "code",
      "execution_count": 184,
      "metadata": {
        "colab": {
          "base_uri": "https://localhost:8080/"
        },
        "id": "jQ-VWxyyrBbq",
        "outputId": "3687c572-ecac-4799-b031-759af95cc7e6"
      },
      "outputs": [
        {
          "output_type": "stream",
          "name": "stdout",
          "text": [
            "Requirement already satisfied: pyspark in /usr/local/lib/python3.10/dist-packages (3.5.3)\n",
            "Requirement already satisfied: py4j in /usr/local/lib/python3.10/dist-packages (0.10.9.7)\n"
          ]
        }
      ],
      "source": [
        "!pip install pyspark py4j"
      ]
    },
    {
      "cell_type": "code",
      "source": [
        "from pyspark.sql import SparkSession\n",
        "from pyspark.sql.functions import col,expr,stack,substring\n",
        "spark=SparkSession.builder.getOrCreate()"
      ],
      "metadata": {
        "id": "O_u5ZO-LrF_3"
      },
      "execution_count": 185,
      "outputs": []
    },
    {
      "cell_type": "code",
      "source": [
        "df=spark.read.csv(path='/content/temperature.csv',header=True,inferSchema=True,sep=\",\")\n",
        "df.printSchema()"
      ],
      "metadata": {
        "colab": {
          "base_uri": "https://localhost:8080/"
        },
        "id": "D8ez2IldEN04",
        "outputId": "9e99632f-0490-4726-9533-b43481823166"
      },
      "execution_count": 186,
      "outputs": [
        {
          "output_type": "stream",
          "name": "stdout",
          "text": [
            "root\n",
            " |-- ObjectId: integer (nullable = true)\n",
            " |-- Country: string (nullable = true)\n",
            " |-- ISO2: string (nullable = true)\n",
            " |-- ISO3: string (nullable = true)\n",
            " |-- F1961: double (nullable = true)\n",
            " |-- F1962: double (nullable = true)\n",
            " |-- F1963: double (nullable = true)\n",
            " |-- F1964: double (nullable = true)\n",
            " |-- F1965: double (nullable = true)\n",
            " |-- F1966: double (nullable = true)\n",
            " |-- F1967: double (nullable = true)\n",
            " |-- F1968: double (nullable = true)\n",
            " |-- F1969: double (nullable = true)\n",
            " |-- F1970: double (nullable = true)\n",
            " |-- F1971: double (nullable = true)\n",
            " |-- F1972: double (nullable = true)\n",
            " |-- F1973: double (nullable = true)\n",
            " |-- F1974: double (nullable = true)\n",
            " |-- F1975: double (nullable = true)\n",
            " |-- F1976: double (nullable = true)\n",
            " |-- F1977: double (nullable = true)\n",
            " |-- F1978: double (nullable = true)\n",
            " |-- F1979: double (nullable = true)\n",
            " |-- F1980: double (nullable = true)\n",
            " |-- F1981: double (nullable = true)\n",
            " |-- F1982: double (nullable = true)\n",
            " |-- F1983: double (nullable = true)\n",
            " |-- F1984: double (nullable = true)\n",
            " |-- F1985: double (nullable = true)\n",
            " |-- F1986: double (nullable = true)\n",
            " |-- F1987: double (nullable = true)\n",
            " |-- F1988: double (nullable = true)\n",
            " |-- F1989: double (nullable = true)\n",
            " |-- F1990: double (nullable = true)\n",
            " |-- F1991: double (nullable = true)\n",
            " |-- F1992: double (nullable = true)\n",
            " |-- F1993: double (nullable = true)\n",
            " |-- F1994: double (nullable = true)\n",
            " |-- F1995: double (nullable = true)\n",
            " |-- F1996: double (nullable = true)\n",
            " |-- F1997: double (nullable = true)\n",
            " |-- F1998: double (nullable = true)\n",
            " |-- F1999: double (nullable = true)\n",
            " |-- F2000: double (nullable = true)\n",
            " |-- F2001: double (nullable = true)\n",
            " |-- F2002: double (nullable = true)\n",
            " |-- F2003: double (nullable = true)\n",
            " |-- F2004: double (nullable = true)\n",
            " |-- F2005: double (nullable = true)\n",
            " |-- F2006: double (nullable = true)\n",
            " |-- F2007: double (nullable = true)\n",
            " |-- F2008: double (nullable = true)\n",
            " |-- F2009: double (nullable = true)\n",
            " |-- F2010: double (nullable = true)\n",
            " |-- F2011: double (nullable = true)\n",
            " |-- F2012: double (nullable = true)\n",
            " |-- F2013: double (nullable = true)\n",
            " |-- F2014: double (nullable = true)\n",
            " |-- F2015: double (nullable = true)\n",
            " |-- F2016: double (nullable = true)\n",
            " |-- F2017: double (nullable = true)\n",
            " |-- F2018: double (nullable = true)\n",
            " |-- F2019: double (nullable = true)\n",
            " |-- F2020: double (nullable = true)\n",
            " |-- F2021: double (nullable = true)\n",
            " |-- F2022: double (nullable = true)\n",
            "\n"
          ]
        }
      ]
    },
    {
      "cell_type": "code",
      "source": [
        "df.show(n=5,truncate=False)"
      ],
      "metadata": {
        "colab": {
          "base_uri": "https://localhost:8080/"
        },
        "id": "WrSNxhgN7buG",
        "outputId": "1bb5166f-9705-4e48-cfe6-ee114e1f3235"
      },
      "execution_count": 187,
      "outputs": [
        {
          "output_type": "stream",
          "name": "stdout",
          "text": [
            "+--------+----------------------------+----+----+------+------+------+------+------+-----+------+------+------+------+------+------+------+------+------+------+------+------+-----+------+------+------+------+------+------+------+------+-----+------+-----+------+------+------+-----+------+------+-----+-----+-----+-----+-----+-----+-----+-----+-----+-----+-----+-----+-----+-----+-----+-----+-----+-----+-----+-----+-----+-----+-----+-----+-----+-----+\n",
            "|ObjectId|Country                     |ISO2|ISO3|F1961 |F1962 |F1963 |F1964 |F1965 |F1966|F1967 |F1968 |F1969 |F1970 |F1971 |F1972 |F1973 |F1974 |F1975 |F1976 |F1977 |F1978 |F1979|F1980 |F1981 |F1982 |F1983 |F1984 |F1985 |F1986 |F1987 |F1988|F1989 |F1990|F1991 |F1992 |F1993 |F1994|F1995 |F1996 |F1997|F1998|F1999|F2000|F2001|F2002|F2003|F2004|F2005|F2006|F2007|F2008|F2009|F2010|F2011|F2012|F2013|F2014|F2015|F2016|F2017|F2018|F2019|F2020|F2021|F2022|\n",
            "+--------+----------------------------+----+----+------+------+------+------+------+-----+------+------+------+------+------+------+------+------+------+------+------+------+-----+------+------+------+------+------+------+------+------+-----+------+-----+------+------+------+-----+------+------+-----+-----+-----+-----+-----+-----+-----+-----+-----+-----+-----+-----+-----+-----+-----+-----+-----+-----+-----+-----+-----+-----+-----+-----+-----+-----+\n",
            "|1       |Afghanistan, Islamic Rep. of|AF  |AFG |-0.113|-0.164|0.847 |-0.764|-0.244|0.226|-0.371|-0.423|-0.539|0.813 |0.619 |-1.124|0.232 |-0.489|-0.445|-0.286|0.513 |0.129 |0.361|0.6   |0.483 |-0.346|0.164 |0.145 |0.283 |-0.141|0.391 |0.919|-0.205|0.73 |-0.168|-0.294|0.22  |0.43 |0.359 |-0.116|0.471|0.675|1.198|0.993|1.311|1.365|0.587|1.373|0.401|1.72 |0.675|0.704|0.895|1.613|1.397|0.223|1.281|0.456|1.093|1.555|1.54 |1.544|0.91 |0.498|1.327|2.012|\n",
            "|2       |Albania                     |AL  |ALB |0.627 |0.326 |0.075 |-0.166|-0.388|0.559|-0.074|0.081 |-0.013|-0.106|-0.195|-0.069|-0.288|-0.139|-0.211|-0.683|0.545 |-0.814|0.203|-0.414|-0.351|0.173 |-0.128|-0.27 |-0.103|0.569 |-0.106|0.37 |-0.066|0.795|-0.269|0.106 |0.076 |1.33 |-0.172|-0.038|0.075|0.795|0.67 |1.065|1.532|0.492|0.97 |0.444|0.189|0.345|1.316|0.978|0.91 |1.191|1.055|1.487|1.333|1.198|1.569|1.464|1.121|2.028|1.675|1.498|1.536|1.518|\n",
            "|3       |Algeria                     |DZ  |DZA |0.164 |0.114 |0.077 |0.25  |-0.1  |0.433|-0.026|-0.067|0.291 |0.116 |-0.385|-0.348|-0.015|-0.503|-0.539|-0.782|0.504 |0.012 |0.654|0.232 |0.215 |0.399 |0.56  |-0.004|0.508 |0.296 |0.975 |1.304|0.386 |1.266|0.031 |-0.312|0.552 |0.732|0.595 |0.846 |1.059|1.109|1.476|0.82 |1.856|1.258|1.585|0.988|1.264|1.395|1.22 |1.185|0.945|2.265|1.398|1.147|1.192|1.69 |1.121|1.757|1.512|1.21 |1.115|1.926|2.33 |1.688|\n",
            "|4       |American Samoa              |AS  |ASM |0.079 |-0.042|0.169 |-0.14 |-0.562|0.181|-0.368|-0.187|0.132 |-0.047|-0.477|-0.067|0.33  |-0.308|-0.118|-0.177|0.156 |0.092 |0.341|0.35  |0.179 |0.28  |0.313 |0.277 |0.256 |0.394 |0.354 |0.509|0.143 |0.497|0.641 |0.344 |-0.069|0.189|0.755 |0.784 |NULL |NULL |0.242|0.626|0.904|1.152|0.716|0.191|0.801|0.403|1.032|0.67 |NULL |1.311|0.854|0.924|1.257|1.17 |1.009|1.539|1.435|1.189|1.539|1.43 |1.268|1.256|\n",
            "|5       |Andorra, Principality of    |AD  |AND |0.736 |0.112 |-0.752|0.308 |-0.49 |0.415|0.637 |0.018 |-0.137|0.121 |-0.326|-0.499|0.025 |-0.371|0.246 |-0.045|-0.093|-0.163|0.058|-0.188|0.178 |1.044 |0.859 |-0.157|0.059 |0.387 |0.397 |0.883|1.162 |1.736|0.231 |0.386 |0.174 |1.508|1.279 |0.57  |1.788|1.018|1.055|1.05 |1.48 |0.835|1.949|0.936|0.851|1.485|1.024|0.946|1.413|0.471|1.677|1.265|0.831|1.946|1.69 |1.99 |1.925|1.919|1.964|2.562|1.533|3.243|\n",
            "+--------+----------------------------+----+----+------+------+------+------+------+-----+------+------+------+------+------+------+------+------+------+------+------+------+-----+------+------+------+------+------+------+------+------+-----+------+-----+------+------+------+-----+------+------+-----+-----+-----+-----+-----+-----+-----+-----+-----+-----+-----+-----+-----+-----+-----+-----+-----+-----+-----+-----+-----+-----+-----+-----+-----+-----+\n",
            "only showing top 5 rows\n",
            "\n"
          ]
        }
      ]
    },
    {
      "cell_type": "code",
      "source": [
        "df.count()"
      ],
      "metadata": {
        "colab": {
          "base_uri": "https://localhost:8080/"
        },
        "id": "hSicAV3CuBjJ",
        "outputId": "d15d0436-7d85-48b2-9e32-6bf302f3db78"
      },
      "execution_count": 188,
      "outputs": [
        {
          "output_type": "execute_result",
          "data": {
            "text/plain": [
              "225"
            ]
          },
          "metadata": {},
          "execution_count": 188
        }
      ]
    },
    {
      "cell_type": "code",
      "source": [
        "df.columns"
      ],
      "metadata": {
        "colab": {
          "base_uri": "https://localhost:8080/"
        },
        "id": "K6vGlnN0uPs1",
        "outputId": "110b4a96-3786-46eb-8884-75bb74f14150"
      },
      "execution_count": 189,
      "outputs": [
        {
          "output_type": "execute_result",
          "data": {
            "text/plain": [
              "['ObjectId',\n",
              " 'Country',\n",
              " 'ISO2',\n",
              " 'ISO3',\n",
              " 'F1961',\n",
              " 'F1962',\n",
              " 'F1963',\n",
              " 'F1964',\n",
              " 'F1965',\n",
              " 'F1966',\n",
              " 'F1967',\n",
              " 'F1968',\n",
              " 'F1969',\n",
              " 'F1970',\n",
              " 'F1971',\n",
              " 'F1972',\n",
              " 'F1973',\n",
              " 'F1974',\n",
              " 'F1975',\n",
              " 'F1976',\n",
              " 'F1977',\n",
              " 'F1978',\n",
              " 'F1979',\n",
              " 'F1980',\n",
              " 'F1981',\n",
              " 'F1982',\n",
              " 'F1983',\n",
              " 'F1984',\n",
              " 'F1985',\n",
              " 'F1986',\n",
              " 'F1987',\n",
              " 'F1988',\n",
              " 'F1989',\n",
              " 'F1990',\n",
              " 'F1991',\n",
              " 'F1992',\n",
              " 'F1993',\n",
              " 'F1994',\n",
              " 'F1995',\n",
              " 'F1996',\n",
              " 'F1997',\n",
              " 'F1998',\n",
              " 'F1999',\n",
              " 'F2000',\n",
              " 'F2001',\n",
              " 'F2002',\n",
              " 'F2003',\n",
              " 'F2004',\n",
              " 'F2005',\n",
              " 'F2006',\n",
              " 'F2007',\n",
              " 'F2008',\n",
              " 'F2009',\n",
              " 'F2010',\n",
              " 'F2011',\n",
              " 'F2012',\n",
              " 'F2013',\n",
              " 'F2014',\n",
              " 'F2015',\n",
              " 'F2016',\n",
              " 'F2017',\n",
              " 'F2018',\n",
              " 'F2019',\n",
              " 'F2020',\n",
              " 'F2021',\n",
              " 'F2022']"
            ]
          },
          "metadata": {},
          "execution_count": 189
        }
      ]
    },
    {
      "cell_type": "code",
      "source": [
        "','.join([ f\" 'F{1961+i}' , F{1961+i} \" for i in range(62)])"
      ],
      "metadata": {
        "colab": {
          "base_uri": "https://localhost:8080/",
          "height": 127
        },
        "id": "89PyR5dHvHwr",
        "outputId": "80002288-db38-43cf-925c-151312fb11a7"
      },
      "execution_count": 190,
      "outputs": [
        {
          "output_type": "execute_result",
          "data": {
            "text/plain": [
              "\" 'F1961' , F1961 , 'F1962' , F1962 , 'F1963' , F1963 , 'F1964' , F1964 , 'F1965' , F1965 , 'F1966' , F1966 , 'F1967' , F1967 , 'F1968' , F1968 , 'F1969' , F1969 , 'F1970' , F1970 , 'F1971' , F1971 , 'F1972' , F1972 , 'F1973' , F1973 , 'F1974' , F1974 , 'F1975' , F1975 , 'F1976' , F1976 , 'F1977' , F1977 , 'F1978' , F1978 , 'F1979' , F1979 , 'F1980' , F1980 , 'F1981' , F1981 , 'F1982' , F1982 , 'F1983' , F1983 , 'F1984' , F1984 , 'F1985' , F1985 , 'F1986' , F1986 , 'F1987' , F1987 , 'F1988' , F1988 , 'F1989' , F1989 , 'F1990' , F1990 , 'F1991' , F1991 , 'F1992' , F1992 , 'F1993' , F1993 , 'F1994' , F1994 , 'F1995' , F1995 , 'F1996' , F1996 , 'F1997' , F1997 , 'F1998' , F1998 , 'F1999' , F1999 , 'F2000' , F2000 , 'F2001' , F2001 , 'F2002' , F2002 , 'F2003' , F2003 , 'F2004' , F2004 , 'F2005' , F2005 , 'F2006' , F2006 , 'F2007' , F2007 , 'F2008' , F2008 , 'F2009' , F2009 , 'F2010' , F2010 , 'F2011' , F2011 , 'F2012' , F2012 , 'F2013' , F2013 , 'F2014' , F2014 , 'F2015' , F2015 , 'F2016' , F2016 , 'F2017' , F2017 , 'F2018' , F2018 , 'F2019' , F2019 , 'F2020' , F2020 , 'F2021' , F2021 , 'F2022' , F2022 \""
            ],
            "application/vnd.google.colaboratory.intrinsic+json": {
              "type": "string"
            }
          },
          "metadata": {},
          "execution_count": 190
        }
      ]
    },
    {
      "cell_type": "code",
      "source": [
        "df_unpivot=df.selectExpr(\n",
        "    'ObjectId','Country','ISO2','ISO3',\n",
        "    'stack(62,' +\n",
        "    ','.join([ f\" 'F{1961+i}' , F{1961+i} \" for i in range(62)])\n",
        "    +') as (Year,Temperature)'\n",
        ")\n",
        "df_unpivot.show(truncate=False)"
      ],
      "metadata": {
        "colab": {
          "base_uri": "https://localhost:8080/"
        },
        "id": "niidKZ9Yj_FL",
        "outputId": "4b1e8238-07df-4e2f-e975-1c62a53d0f71"
      },
      "execution_count": 191,
      "outputs": [
        {
          "output_type": "stream",
          "name": "stdout",
          "text": [
            "+--------+----------------------------+----+----+-----+-----------+\n",
            "|ObjectId|Country                     |ISO2|ISO3|Year |Temperature|\n",
            "+--------+----------------------------+----+----+-----+-----------+\n",
            "|1       |Afghanistan, Islamic Rep. of|AF  |AFG |F1961|-0.113     |\n",
            "|1       |Afghanistan, Islamic Rep. of|AF  |AFG |F1962|-0.164     |\n",
            "|1       |Afghanistan, Islamic Rep. of|AF  |AFG |F1963|0.847      |\n",
            "|1       |Afghanistan, Islamic Rep. of|AF  |AFG |F1964|-0.764     |\n",
            "|1       |Afghanistan, Islamic Rep. of|AF  |AFG |F1965|-0.244     |\n",
            "|1       |Afghanistan, Islamic Rep. of|AF  |AFG |F1966|0.226      |\n",
            "|1       |Afghanistan, Islamic Rep. of|AF  |AFG |F1967|-0.371     |\n",
            "|1       |Afghanistan, Islamic Rep. of|AF  |AFG |F1968|-0.423     |\n",
            "|1       |Afghanistan, Islamic Rep. of|AF  |AFG |F1969|-0.539     |\n",
            "|1       |Afghanistan, Islamic Rep. of|AF  |AFG |F1970|0.813      |\n",
            "|1       |Afghanistan, Islamic Rep. of|AF  |AFG |F1971|0.619      |\n",
            "|1       |Afghanistan, Islamic Rep. of|AF  |AFG |F1972|-1.124     |\n",
            "|1       |Afghanistan, Islamic Rep. of|AF  |AFG |F1973|0.232      |\n",
            "|1       |Afghanistan, Islamic Rep. of|AF  |AFG |F1974|-0.489     |\n",
            "|1       |Afghanistan, Islamic Rep. of|AF  |AFG |F1975|-0.445     |\n",
            "|1       |Afghanistan, Islamic Rep. of|AF  |AFG |F1976|-0.286     |\n",
            "|1       |Afghanistan, Islamic Rep. of|AF  |AFG |F1977|0.513      |\n",
            "|1       |Afghanistan, Islamic Rep. of|AF  |AFG |F1978|0.129      |\n",
            "|1       |Afghanistan, Islamic Rep. of|AF  |AFG |F1979|0.361      |\n",
            "|1       |Afghanistan, Islamic Rep. of|AF  |AFG |F1980|0.6        |\n",
            "+--------+----------------------------+----+----+-----+-----------+\n",
            "only showing top 20 rows\n",
            "\n"
          ]
        }
      ]
    },
    {
      "cell_type": "markdown",
      "source": [
        "**Handle Data Types**"
      ],
      "metadata": {
        "id": "j05VLWnI5P89"
      }
    },
    {
      "cell_type": "code",
      "source": [
        "df_unpivot.dtypes"
      ],
      "metadata": {
        "colab": {
          "base_uri": "https://localhost:8080/"
        },
        "id": "FLIcI8RvoEqD",
        "outputId": "c40a275b-9a9f-440b-bfe9-a9c5a006c2c4"
      },
      "execution_count": 192,
      "outputs": [
        {
          "output_type": "execute_result",
          "data": {
            "text/plain": [
              "[('ObjectId', 'int'),\n",
              " ('Country', 'string'),\n",
              " ('ISO2', 'string'),\n",
              " ('ISO3', 'string'),\n",
              " ('Year', 'string'),\n",
              " ('Temperature', 'double')]"
            ]
          },
          "metadata": {},
          "execution_count": 192
        }
      ]
    },
    {
      "cell_type": "code",
      "source": [
        "df_unpivot=df_unpivot.withColumn(\"Year\",substring(col(\"Year\"),2,4) ).withColumn( \"Year\",col(\"Year\").cast(\"integer\") )\n",
        "df_unpivot.show()"
      ],
      "metadata": {
        "colab": {
          "base_uri": "https://localhost:8080/"
        },
        "id": "J3H_9iDxw9wu",
        "outputId": "50c6b579-2bee-4439-b1f7-1513120cbf04"
      },
      "execution_count": 193,
      "outputs": [
        {
          "output_type": "stream",
          "name": "stdout",
          "text": [
            "+--------+--------------------+----+----+----+-----------+\n",
            "|ObjectId|             Country|ISO2|ISO3|Year|Temperature|\n",
            "+--------+--------------------+----+----+----+-----------+\n",
            "|       1|Afghanistan, Isla...|  AF| AFG|1961|     -0.113|\n",
            "|       1|Afghanistan, Isla...|  AF| AFG|1962|     -0.164|\n",
            "|       1|Afghanistan, Isla...|  AF| AFG|1963|      0.847|\n",
            "|       1|Afghanistan, Isla...|  AF| AFG|1964|     -0.764|\n",
            "|       1|Afghanistan, Isla...|  AF| AFG|1965|     -0.244|\n",
            "|       1|Afghanistan, Isla...|  AF| AFG|1966|      0.226|\n",
            "|       1|Afghanistan, Isla...|  AF| AFG|1967|     -0.371|\n",
            "|       1|Afghanistan, Isla...|  AF| AFG|1968|     -0.423|\n",
            "|       1|Afghanistan, Isla...|  AF| AFG|1969|     -0.539|\n",
            "|       1|Afghanistan, Isla...|  AF| AFG|1970|      0.813|\n",
            "|       1|Afghanistan, Isla...|  AF| AFG|1971|      0.619|\n",
            "|       1|Afghanistan, Isla...|  AF| AFG|1972|     -1.124|\n",
            "|       1|Afghanistan, Isla...|  AF| AFG|1973|      0.232|\n",
            "|       1|Afghanistan, Isla...|  AF| AFG|1974|     -0.489|\n",
            "|       1|Afghanistan, Isla...|  AF| AFG|1975|     -0.445|\n",
            "|       1|Afghanistan, Isla...|  AF| AFG|1976|     -0.286|\n",
            "|       1|Afghanistan, Isla...|  AF| AFG|1977|      0.513|\n",
            "|       1|Afghanistan, Isla...|  AF| AFG|1978|      0.129|\n",
            "|       1|Afghanistan, Isla...|  AF| AFG|1979|      0.361|\n",
            "|       1|Afghanistan, Isla...|  AF| AFG|1980|        0.6|\n",
            "+--------+--------------------+----+----+----+-----------+\n",
            "only showing top 20 rows\n",
            "\n"
          ]
        }
      ]
    },
    {
      "cell_type": "code",
      "source": [
        "df_unpivot.dtypes"
      ],
      "metadata": {
        "colab": {
          "base_uri": "https://localhost:8080/"
        },
        "id": "Rrrz_9j5jFNu",
        "outputId": "56050000-078f-4168-e078-32a45f5263ab"
      },
      "execution_count": 194,
      "outputs": [
        {
          "output_type": "execute_result",
          "data": {
            "text/plain": [
              "[('ObjectId', 'int'),\n",
              " ('Country', 'string'),\n",
              " ('ISO2', 'string'),\n",
              " ('ISO3', 'string'),\n",
              " ('Year', 'int'),\n",
              " ('Temperature', 'double')]"
            ]
          },
          "metadata": {},
          "execution_count": 194
        }
      ]
    },
    {
      "cell_type": "code",
      "source": [
        "df_unpivot.count()"
      ],
      "metadata": {
        "colab": {
          "base_uri": "https://localhost:8080/"
        },
        "id": "iZ0EhbKEpe-2",
        "outputId": "c66a5ba9-7010-4759-c7cd-092d36c4c1c9"
      },
      "execution_count": 195,
      "outputs": [
        {
          "output_type": "execute_result",
          "data": {
            "text/plain": [
              "13950"
            ]
          },
          "metadata": {},
          "execution_count": 195
        }
      ]
    },
    {
      "cell_type": "markdown",
      "source": [
        "**Check Duplicates**"
      ],
      "metadata": {
        "id": "VGXE2GzY0Ra0"
      }
    },
    {
      "cell_type": "code",
      "source": [
        "print(\"Number of Duplicated Rows = \" + str(df_unpivot.exceptAll(df_unpivot.dropDuplicates()).count()))"
      ],
      "metadata": {
        "colab": {
          "base_uri": "https://localhost:8080/"
        },
        "id": "L8FIrUQ-zbBZ",
        "outputId": "687d4759-280d-4d03-8ff1-f40e4fdccb89"
      },
      "execution_count": 196,
      "outputs": [
        {
          "output_type": "stream",
          "name": "stdout",
          "text": [
            "Number of Duplicated Rows = 0\n"
          ]
        }
      ]
    },
    {
      "cell_type": "markdown",
      "source": [
        "**Identity Null Values**\n"
      ],
      "metadata": {
        "id": "x8-RximV0Yuw"
      }
    },
    {
      "cell_type": "code",
      "source": [
        "df_unpivot.select(  *( sum( col(i).isNull().cast(\"integer\") ).alias(i) for i in df_unpivot.columns ) ).show()"
      ],
      "metadata": {
        "colab": {
          "base_uri": "https://localhost:8080/"
        },
        "id": "C5LCyjrf0psc",
        "outputId": "d5bd8191-90aa-4e66-91e6-add646915f2e"
      },
      "execution_count": 197,
      "outputs": [
        {
          "output_type": "stream",
          "name": "stdout",
          "text": [
            "+--------+-------+----+----+----+-----------+\n",
            "|ObjectId|Country|ISO2|ISO3|Year|Temperature|\n",
            "+--------+-------+----+----+----+-----------+\n",
            "|       0|      0|  62|   0|   0|       1490|\n",
            "+--------+-------+----+----+----+-----------+\n",
            "\n"
          ]
        }
      ]
    },
    {
      "cell_type": "code",
      "source": [
        "df_unpivot=df_unpivot.fillna({\"ISO2\":\"Unknown\"})"
      ],
      "metadata": {
        "id": "nBf-bGo25ZgJ"
      },
      "execution_count": 198,
      "outputs": []
    },
    {
      "cell_type": "code",
      "source": [
        "df_pivot.where(df_pivot.Temperature.isNull()).show()"
      ],
      "metadata": {
        "colab": {
          "base_uri": "https://localhost:8080/"
        },
        "id": "9Kp05uXg2ghs",
        "outputId": "1eee22f0-5722-4e14-8dc8-4999fce6cd79"
      },
      "execution_count": 199,
      "outputs": [
        {
          "output_type": "stream",
          "name": "stdout",
          "text": [
            "+--------+-------------------+----+-----+-----------+\n",
            "|ObjectId|            Country|ISO3| Year|Temperature|\n",
            "+--------+-------------------+----+-----+-----------+\n",
            "|       4|     American Samoa| ASM|F1997|       NULL|\n",
            "|       4|     American Samoa| ASM|F1998|       NULL|\n",
            "|       4|     American Samoa| ASM|F2009|       NULL|\n",
            "|       8|Antigua and Barbuda| ATG|F2001|       NULL|\n",
            "|      10|   Armenia, Rep. of| ARM|F1961|       NULL|\n",
            "|      10|   Armenia, Rep. of| ARM|F1962|       NULL|\n",
            "|      10|   Armenia, Rep. of| ARM|F1963|       NULL|\n",
            "|      10|   Armenia, Rep. of| ARM|F1964|       NULL|\n",
            "|      10|   Armenia, Rep. of| ARM|F1965|       NULL|\n",
            "|      10|   Armenia, Rep. of| ARM|F1966|       NULL|\n",
            "|      10|   Armenia, Rep. of| ARM|F1967|       NULL|\n",
            "|      10|   Armenia, Rep. of| ARM|F1968|       NULL|\n",
            "|      10|   Armenia, Rep. of| ARM|F1969|       NULL|\n",
            "|      10|   Armenia, Rep. of| ARM|F1970|       NULL|\n",
            "|      10|   Armenia, Rep. of| ARM|F1971|       NULL|\n",
            "|      10|   Armenia, Rep. of| ARM|F1972|       NULL|\n",
            "|      10|   Armenia, Rep. of| ARM|F1973|       NULL|\n",
            "|      10|   Armenia, Rep. of| ARM|F1974|       NULL|\n",
            "|      10|   Armenia, Rep. of| ARM|F1975|       NULL|\n",
            "|      10|   Armenia, Rep. of| ARM|F1976|       NULL|\n",
            "+--------+-------------------+----+-----+-----------+\n",
            "only showing top 20 rows\n",
            "\n"
          ]
        }
      ]
    },
    {
      "cell_type": "code",
      "source": [
        "df_unpivot=df_unpivot.dropna(subset=[\"Temperature\"],how=\"any\")"
      ],
      "metadata": {
        "id": "wIgm-4Yb65Bm"
      },
      "execution_count": 200,
      "outputs": []
    },
    {
      "cell_type": "code",
      "source": [
        "df_unpivot.select(  *( sum( col(i).isNull().cast(\"integer\") ).alias(i) for i in df_unpivot.columns ) ).show()"
      ],
      "metadata": {
        "colab": {
          "base_uri": "https://localhost:8080/"
        },
        "id": "bErFERH-506j",
        "outputId": "ac8c39f2-c447-4ad1-8262-7385562c180a"
      },
      "execution_count": 201,
      "outputs": [
        {
          "output_type": "stream",
          "name": "stdout",
          "text": [
            "+--------+-------+----+----+----+-----------+\n",
            "|ObjectId|Country|ISO2|ISO3|Year|Temperature|\n",
            "+--------+-------+----+----+----+-----------+\n",
            "|       0|      0|   0|   0|   0|          0|\n",
            "+--------+-------+----+----+----+-----------+\n",
            "\n"
          ]
        }
      ]
    },
    {
      "cell_type": "code",
      "source": [
        "df_unpivot.select(\"Temperature\").describe().show()"
      ],
      "metadata": {
        "colab": {
          "base_uri": "https://localhost:8080/"
        },
        "id": "enHgzE8_zFr6",
        "outputId": "8b6ac31d-c132-4036-ddd1-ea3c1063a813"
      },
      "execution_count": 202,
      "outputs": [
        {
          "output_type": "stream",
          "name": "stdout",
          "text": [
            "+-------+------------------+\n",
            "|summary|       Temperature|\n",
            "+-------+------------------+\n",
            "|  count|             12460|\n",
            "|   mean|0.5377713483146044|\n",
            "| stddev|0.6553262417685121|\n",
            "|    min|            -2.062|\n",
            "|    max|             3.691|\n",
            "+-------+------------------+\n",
            "\n"
          ]
        }
      ]
    },
    {
      "cell_type": "code",
      "source": [
        "df_unpivot.sample(fraction=0.1,seed=1).show(truncate=False)"
      ],
      "metadata": {
        "colab": {
          "base_uri": "https://localhost:8080/"
        },
        "id": "-XNzh6QC17f8",
        "outputId": "19096d8e-9b31-4f64-ac5f-d2c0aff592b3"
      },
      "execution_count": 203,
      "outputs": [
        {
          "output_type": "stream",
          "name": "stdout",
          "text": [
            "+--------+----------------------------+----+----+----+-----------+\n",
            "|ObjectId|Country                     |ISO2|ISO3|Year|Temperature|\n",
            "+--------+----------------------------+----+----+----+-----------+\n",
            "|1       |Afghanistan, Islamic Rep. of|AF  |AFG |1964|-0.764     |\n",
            "|1       |Afghanistan, Islamic Rep. of|AF  |AFG |1979|0.361      |\n",
            "|1       |Afghanistan, Islamic Rep. of|AF  |AFG |1981|0.483      |\n",
            "|1       |Afghanistan, Islamic Rep. of|AF  |AFG |1985|0.283      |\n",
            "|1       |Afghanistan, Islamic Rep. of|AF  |AFG |2011|1.397      |\n",
            "|1       |Afghanistan, Islamic Rep. of|AF  |AFG |2021|1.327      |\n",
            "|2       |Albania                     |AL  |ALB |1986|0.569      |\n",
            "|2       |Albania                     |AL  |ALB |1998|0.795      |\n",
            "|2       |Albania                     |AL  |ALB |1999|0.67       |\n",
            "|2       |Albania                     |AL  |ALB |2021|1.536      |\n",
            "|3       |Algeria                     |DZ  |DZA |1974|-0.503     |\n",
            "|3       |Algeria                     |DZ  |DZA |1982|0.399      |\n",
            "|3       |Algeria                     |DZ  |DZA |1983|0.56       |\n",
            "|3       |Algeria                     |DZ  |DZA |1993|0.552      |\n",
            "|3       |Algeria                     |DZ  |DZA |1998|1.109      |\n",
            "|3       |Algeria                     |DZ  |DZA |2006|1.395      |\n",
            "|3       |Algeria                     |DZ  |DZA |2009|0.945      |\n",
            "|3       |Algeria                     |DZ  |DZA |2015|1.121      |\n",
            "|4       |American Samoa              |AS  |ASM |1961|0.079      |\n",
            "|4       |American Samoa              |AS  |ASM |1965|-0.562     |\n",
            "+--------+----------------------------+----+----+----+-----------+\n",
            "only showing top 20 rows\n",
            "\n"
          ]
        }
      ]
    },
    {
      "cell_type": "code",
      "source": [
        "df_unpivot.write.parquet(\"/content/TempData\",mode=\"overwrite\")"
      ],
      "metadata": {
        "id": "X_1-Kv4T2BBD"
      },
      "execution_count": 204,
      "outputs": []
    },
    {
      "cell_type": "code",
      "source": [],
      "metadata": {
        "id": "T2A1pq6M9uBX"
      },
      "execution_count": null,
      "outputs": []
    }
  ]
}